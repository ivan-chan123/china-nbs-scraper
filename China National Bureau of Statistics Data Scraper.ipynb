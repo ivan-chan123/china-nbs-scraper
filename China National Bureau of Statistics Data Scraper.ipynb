{
 "cells": [
  {
   "cell_type": "markdown",
   "metadata": {},
   "source": [
    "This is a python script that scrapes data from China's National Bureau of Statistics. Manually downloading datasets from the website is often slow and tedious. The motivation behind this project is to allow users to easily and quickly retrieve the data points so data analysis can be performed on it. \n"
   ]
  },
  {
   "cell_type": "code",
   "execution_count": 36,
   "metadata": {
    "collapsed": true
   },
   "outputs": [],
   "source": [
    "from requests import session\n",
    "from multiprocessing.dummy import Pool as ThreadPool \n",
    "import pandas as pd\n",
    "import functools\n",
    "import numpy as np\n"
   ]
  },
  {
   "cell_type": "markdown",
   "metadata": {},
   "source": [
    "Here is a list of codes and their corresponding datasets."
   ]
  },
  {
   "cell_type": "code",
   "execution_count": null,
   "metadata": {
    "collapsed": true
   },
   "outputs": [],
   "source": [
    "price_indices = {\n",
    "\t'A01010101': 'Consumer Price Index (The same month last year=100)', \n",
    "\t'A01080101': 'Producer Price Index for Industrial Products (The same _month last year=100)', \n",
    "\t'A01010201': 'Consumer Price Index (The same month last year=100) old', \n",
    "\t'A01040101': 'Retail Price Index (The same month last year=100)'}\n",
    "\n",
    "fixed_assets_investments = {\n",
    "\t'A130C01': 'Investment in Private Fixed Assets, Accumulated(100 million yuan)',\n",
    "\t'A130101': 'Investment Actually Completed in Fixed Assets, Accumulated (100 million yuan)', \n",
    "\t'A13070B01': 'Investment in Fixed Assets, Real Estate, Accumulated',\n",
    "\t\"A13060B01\": \"Investment in Fixed Assets, Real Estate, Accumulated_old\",\n",
    "\t\"A13070301\": \"Investment in Fixed Assets, Manufacturing, Accumulated\",\n",
    "\t\"A13060301\": \"Investment in Fixed Assets, Manufacturing, Accumulated_old\" }\n",
    "\n",
    "\n",
    "residential_real_estate_floor_space_database = {\n",
    "\t'A140A01': 'Floor Space of Commercialized Residential Buildings Sold, Accumulated',\n",
    "\t'A140A05': 'Floor Space of Commercialized Residential Buildings Sold, forward delivery housing, Accumulated',\n",
    "\t'A140A03': 'Floor Space of Commercialized Residential Buildings Sold, complete dapartment, Accumulated',\n",
    "\t'A140503': 'Newly Started Floor Space of Commercialized Residential Buildings, Accumulated',\n",
    "\t'A140205': 'Sources of Funds of Enterprises for Real Estate Development, Accumulated',\n",
    "\t'A140105': 'Total Investment in Residential Buildings in Real _Estate Development, Accumulated',\n",
    "\t'A140101': 'Real estate investment - Cumulative Value ($100 million)' }\n",
    "\n",
    "land_area_purchases_investment_growth_and_RE_total = {\n",
    "\t\"A140205\":\"Sources of Funds of Enterprises for Real Estate _Development, Accumulated\",\n",
    "\t'A140301': 'Development and Sales of Real Estate, Land Space _Purchased, Accumulated',\n",
    "\t'A130105': \"Investment Actually Completed by Enterprises for Real _Estate Development, Accumulated\",\n",
    "\t'A140401': 'Floor Space of Real Estate Under Construction, Accumulated', \n",
    "\t'A140403': 'Floor Space of Real Estate Started This Year, Accumulated', \n",
    "\t'A140405': 'Floor Space of Real Estate Completed, Accumulated',\n",
    "\t'A140303': 'Development and Sales of Real Estate, Transaction _Value of Land, Accumulated', }\n",
    "\n",
    "financial_and_fiscal = {\n",
    "\t'A1A0101': 'Government Revenue, Current Period',\n",
    "\t'A1B0103': 'Money (M1) Supply, period-end', \n",
    "\t'A1B0101': 'Money and Quasi-Money (M2) Supply, period-end', \n",
    "\t'A1A0201': 'Government Expenditure , Current Period', \n",
    "\t'A1B0105': 'Currency in Circulation (M0) Supply, period-end'}\n",
    "\n",
    "export_import_FDI_Industrial_profit_whole_sales = {\n",
    "\t'A160105': 'Value of Exports, Current Period',\n",
    "\t'A150101': 'Retail Sales of Consumer Goods, Current Period', \n",
    "\t'A16020B': 'Foreign Direct Investment Actually Utilized, Accumulated', \n",
    "\t'A160109': 'Value of Imports, Current Period',\n",
    "\t'A02090N': 'Revenue from Principal Business, Accumulated', \n",
    "\t'A02090H': 'Total Assets, Accumulated',\n",
    "\t'A020J18': 'Total Profits of Private Industrial Enterprises, _Accumulated ',\n",
    "\t'A020918': 'Total Profits, Accumulated ', \n",
    "\t'A170205':'Freight Ton-Kilometers of Railways, Current Period',\n",
    "\t'A02091A': 'Total Profits, Accumulated Growth Rate', 'A020915': 'Interest Expenses, Accumulated',\n",
    "\t'A020101': 'Value-added of Industry, Growth Rate (The same period _last year=100)',\n",
    "\t'A020912': 'Financial Costs, Accumulated ', 'A02090K': 'Total Liabilities, Accumulated',\n",
    "\t'A02090P': 'Revenue from Principal Business, Accumulated Growth _Rate', \n",
    "}"
   ]
  },
  {
   "cell_type": "code",
   "execution_count": 9,
   "metadata": {
    "collapsed": true
   },
   "outputs": [],
   "source": [
    "def fetch_data(code,name):\n",
    "\twith session() as c:\n",
    "\t\t# data is a messy json-like set of data in reverse chronological order\n",
    "\t\tdata = c.post(base+code+suffix).content.split('\"data\":'.encode(\"utf8\"))[::-1]\n",
    "\t\t# filtering out dates that are without data\n",
    "\t\tavailable_data = [item for item in data if 'hasdata\":true' in str(item)]\n",
    "\t\t# Pick out the data points\n",
    "\t\tdata_points = [float(item.split(',\"dotcount'.encode(\"utf8\"))[0]) for item in available_data]\n",
    "\t\t# Pick out the relevant dates\n",
    "\t\tdate = [int(item.split('\",\"wdcode\":\"sj\"}]'.encode(\"utf8\"))[0].split('},{\"valuecode\":\"'.encode(\"utf8\"))[1]) for item in available_data]\n",
    "\t\t# Convert both the data and dates to DataFrame, using the dates as the index\n",
    "\t\tdf = pd.DataFrame({name: data_points})\n",
    "\t\t# Formatting to date format\n",
    "\t\tdates_formatted = pd.to_datetime(pd.Series(date), format=\"%Y%m\").dt.date\n",
    "\t\tdf.index = dates_formatted\n",
    "\t\t\n",
    "\t\treturn df"
   ]
  },
  {
   "cell_type": "markdown",
   "metadata": {},
   "source": [
    "Below: user assigned start year and start month. Earliest year is 1998, month takes an integer from 1-12."
   ]
  },
  {
   "cell_type": "code",
   "execution_count": 66,
   "metadata": {
    "collapsed": true
   },
   "outputs": [],
   "source": [
    "start_year = 2010\n",
    "start_month = 1"
   ]
  },
  {
   "cell_type": "code",
   "execution_count": 67,
   "metadata": {
    "collapsed": true
   },
   "outputs": [],
   "source": [
    "# URL taken from netwprk monitoring the NBS website\n",
    "base='http://data.stats.gov.cn/english/easyquery.htm?m=QueryData&dbcode=hgyd&rowcode=zb&colcode=sj&wds=[]&dfwds=[{\"wdcode\":\"zb\",\"valuecode\":\"'\n",
    "suffix='\"},{\"wdcode\":\"sj\",\"valuecode\":\"%s0%s-\"}]'%(str(start_year),str(start_month))\n",
    "\n",
    "def time_index():\n",
    "    with session() as c:\n",
    "        # Checking the latest data point by taking the lenght of data returned (earliest is 1998 January)\n",
    "        json_data = c.post(base+'A130C01'+suffix).content.split('{\"cn'.encode(\"utf8\"))\n",
    "        # Creating a monthly time index\n",
    "        time_index = ['%s-01-%s'%(start_month+i%12,start_year+i//12) for i in range (len(json_data)-2)]\n",
    "        df_time_index = pd.DataFrame({\"Date\":pd.to_datetime(pd.Series(time_index)).dt.date})\n",
    "        return df_time_index\n",
    "    "
   ]
  },
  {
   "cell_type": "markdown",
   "metadata": {},
   "source": [
    "Below: user assigned codes and datasets to be retrieved. The script will refer to the code when retrieving the data - it will output NaN if code doesn't exist. The name of the datasets can be edited."
   ]
  },
  {
   "cell_type": "code",
   "execution_count": 68,
   "metadata": {},
   "outputs": [],
   "source": [
    "list_of_indices = {\n",
    "\t'A01040101': 'Retail Price Index (The same month last year=100)', \n",
    "\t'A01080101': 'Producer Price Index for Industrial Products (The same month last year=100)'\n",
    "}"
   ]
  },
  {
   "cell_type": "code",
   "execution_count": 72,
   "metadata": {
    "scrolled": true
   },
   "outputs": [
    {
     "data": {
      "text/html": [
       "<div>\n",
       "<style>\n",
       "    .dataframe thead tr:only-child th {\n",
       "        text-align: right;\n",
       "    }\n",
       "\n",
       "    .dataframe thead th {\n",
       "        text-align: left;\n",
       "    }\n",
       "\n",
       "    .dataframe tbody tr th {\n",
       "        vertical-align: top;\n",
       "    }\n",
       "</style>\n",
       "<table border=\"1\" class=\"dataframe\">\n",
       "  <thead>\n",
       "    <tr style=\"text-align: right;\">\n",
       "      <th></th>\n",
       "      <th>Retail Price Index (The same month last year=100)</th>\n",
       "      <th>Producer Price Index for Industrial Products (The same month last year=100)</th>\n",
       "    </tr>\n",
       "    <tr>\n",
       "      <th>Date</th>\n",
       "      <th></th>\n",
       "      <th></th>\n",
       "    </tr>\n",
       "  </thead>\n",
       "  <tbody>\n",
       "    <tr>\n",
       "      <th>2017-08-01</th>\n",
       "      <td>101.143422</td>\n",
       "      <td>106.3</td>\n",
       "    </tr>\n",
       "    <tr>\n",
       "      <th>2017-07-01</th>\n",
       "      <td>100.665039</td>\n",
       "      <td>105.5</td>\n",
       "    </tr>\n",
       "    <tr>\n",
       "      <th>2017-06-01</th>\n",
       "      <td>100.896444</td>\n",
       "      <td>105.5</td>\n",
       "    </tr>\n",
       "    <tr>\n",
       "      <th>2017-05-01</th>\n",
       "      <td>101.102850</td>\n",
       "      <td>105.5</td>\n",
       "    </tr>\n",
       "    <tr>\n",
       "      <th>2017-04-01</th>\n",
       "      <td>100.907632</td>\n",
       "      <td>106.4</td>\n",
       "    </tr>\n",
       "  </tbody>\n",
       "</table>\n",
       "</div>"
      ],
      "text/plain": [
       "            Retail Price Index (The same month last year=100)  \\\n",
       "Date                                                            \n",
       "2017-08-01                                         101.143422   \n",
       "2017-07-01                                         100.665039   \n",
       "2017-06-01                                         100.896444   \n",
       "2017-05-01                                         101.102850   \n",
       "2017-04-01                                         100.907632   \n",
       "\n",
       "            Producer Price Index for Industrial Products (The same month last year=100)  \n",
       "Date                                                                                     \n",
       "2017-08-01                                              106.3                            \n",
       "2017-07-01                                              105.5                            \n",
       "2017-06-01                                              105.5                            \n",
       "2017-05-01                                              105.5                            \n",
       "2017-04-01                                              106.4                            "
      ]
     },
     "execution_count": 72,
     "metadata": {},
     "output_type": "execute_result"
    }
   ],
   "source": [
    "# Creating a list of code and names from the dictionary to be used in pool\n",
    "codes = [code for code in list_of_indices]\n",
    "names = [list_of_indices[code] for code in list_of_indices]\n",
    "\n",
    "pool = ThreadPool(4)\n",
    "# Uing multihreading to run fetch_data multiple times at once\n",
    "results = list(pool.starmap(fetch_data, zip(codes, names)))\n",
    "# Insert time_index at position 0 to be merged with results\n",
    "df_time_index = time_index()\n",
    "results.insert(0, df_time_index)\n",
    "# Iteratively merge all the results into one DataFrame\n",
    "output = functools.reduce(lambda df1, df2: pd.merge(df1, df2, how=\"left\", left_on=\"Date\", right_index=True), results).set_index(\"Date\")\n",
    "\n",
    "output.iloc[::-1].head() #reverse chronological order"
   ]
  },
  {
   "cell_type": "markdown",
   "metadata": {},
   "source": [
    "You can also choose to plot the data points, although there are many services online (such as trading economics) that can do it for you. The main function of this program is to retrieve the data points themselves. Below is just an example, different datasets may require different scales."
   ]
  },
  {
   "cell_type": "code",
   "execution_count": 70,
   "metadata": {},
   "outputs": [
    {
     "data": {
      "text/plain": [
       "<matplotlib.axes._subplots.AxesSubplot at 0x1e8d639f278>"
      ]
     },
     "execution_count": 70,
     "metadata": {},
     "output_type": "execute_result"
    },
    {
     "data": {
      "image/png": "[encoded data removed]",
      "text/plain": [
       "<matplotlib.figure.Figure at 0x1e8d6093a20>"
      ]
     },
     "metadata": {},
     "output_type": "display_data"
    }
   ],
   "source": [
    "import matplotlib.pyplot as plt\n",
    "%matplotlib inline\n",
    "output.plot()"
   ]
  },
  {
   "cell_type": "code",
   "execution_count": null,
   "metadata": {
    "collapsed": true
   },
   "outputs": [],
   "source": []
  },
  {
   "cell_type": "code",
   "execution_count": null,
   "metadata": {
    "collapsed": true
   },
   "outputs": [],
   "source": []
  }
 ],
 "metadata": {
  "kernelspec": {
   "display_name": "Python 3",
   "language": "python",
   "name": "python3"
  },
  "language_info": {
   "codemirror_mode": {
    "name": "ipython",
    "version": 3
   },
   "file_extension": ".py",
   "mimetype": "text/x-python",
   "name": "python",
   "nbconvert_exporter": "python",
   "pygments_lexer": "ipython3",
   "version": "3.6.1"
  }
 },
 "nbformat": 4,
 "nbformat_minor": 2
}
